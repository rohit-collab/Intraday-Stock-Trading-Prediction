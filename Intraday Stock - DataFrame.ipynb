{
 "cells": [
  {
   "cell_type": "markdown",
   "metadata": {},
   "source": [
    "# Title:  Intraday Stock Prediction\n",
    "\n",
    "## Exploratory Data Analysis for DataFrame.csv\n"
   ]
  },
  {
   "cell_type": "markdown",
   "metadata": {},
   "source": [
    "##### Import the required libraries"
   ]
  },
  {
   "cell_type": "code",
   "execution_count": 4,
   "metadata": {
    "scrolled": true
   },
   "outputs": [
    {
     "name": "stdout",
     "output_type": "stream",
     "text": [
      "Setup completed\n"
     ]
    }
   ],
   "source": [
    "import pandas as pd\n",
    "import numpy as np\n",
    "import matplotlib.pyplot as plt\n",
    "%matplotlib inline\n",
    "import seaborn as sns\n",
    "import datetime\n",
    "import warnings\n",
    "warnings.filterwarnings('ignore')\n",
    "np.random.seed(0)\n",
    "print(\"Setup completed\")"
   ]
  },
  {
   "cell_type": "markdown",
   "metadata": {},
   "source": [
    "##### Read the comma separated file(csv) as follows:"
   ]
  },
  {
   "cell_type": "code",
   "execution_count": 5,
   "metadata": {
    "scrolled": true
   },
   "outputs": [
    {
     "name": "stdout",
     "output_type": "stream",
     "text": [
      "Data Is Imported Successfully\n"
     ]
    }
   ],
   "source": [
    "data = pd.read_csv(\"DataFrame.csv\", parse_dates=['Date'])     #read the dataset \n",
    "print(\"Data Is Imported Successfully\")"
   ]
  },
  {
   "cell_type": "code",
   "execution_count": 6,
   "metadata": {},
   "outputs": [
    {
     "data": {
      "text/html": [
       "<div>\n",
       "<style scoped>\n",
       "    .dataframe tbody tr th:only-of-type {\n",
       "        vertical-align: middle;\n",
       "    }\n",
       "\n",
       "    .dataframe tbody tr th {\n",
       "        vertical-align: top;\n",
       "    }\n",
       "\n",
       "    .dataframe thead th {\n",
       "        text-align: right;\n",
       "    }\n",
       "</style>\n",
       "<table border=\"1\" class=\"dataframe\">\n",
       "  <thead>\n",
       "    <tr style=\"text-align: right;\">\n",
       "      <th></th>\n",
       "      <th>Type</th>\n",
       "      <th>Date</th>\n",
       "      <th>Time</th>\n",
       "      <th>open</th>\n",
       "      <th>high</th>\n",
       "      <th>low</th>\n",
       "      <th>close</th>\n",
       "      <th>Unnamed: 7</th>\n",
       "    </tr>\n",
       "  </thead>\n",
       "  <tbody>\n",
       "    <tr>\n",
       "      <th>0</th>\n",
       "      <td>NIFTY</td>\n",
       "      <td>2021-01-01</td>\n",
       "      <td>09:16</td>\n",
       "      <td>13997.90</td>\n",
       "      <td>14020.85</td>\n",
       "      <td>13991.35</td>\n",
       "      <td>14013.15</td>\n",
       "      <td>NaN</td>\n",
       "    </tr>\n",
       "    <tr>\n",
       "      <th>1</th>\n",
       "      <td>NIFTY</td>\n",
       "      <td>2021-01-01</td>\n",
       "      <td>09:17</td>\n",
       "      <td>14014.85</td>\n",
       "      <td>14018.55</td>\n",
       "      <td>14008.15</td>\n",
       "      <td>14009.05</td>\n",
       "      <td>NaN</td>\n",
       "    </tr>\n",
       "    <tr>\n",
       "      <th>2</th>\n",
       "      <td>NIFTY</td>\n",
       "      <td>2021-01-01</td>\n",
       "      <td>09:18</td>\n",
       "      <td>14008.05</td>\n",
       "      <td>14013.10</td>\n",
       "      <td>14005.05</td>\n",
       "      <td>14012.70</td>\n",
       "      <td>NaN</td>\n",
       "    </tr>\n",
       "    <tr>\n",
       "      <th>3</th>\n",
       "      <td>NIFTY</td>\n",
       "      <td>2021-01-01</td>\n",
       "      <td>09:19</td>\n",
       "      <td>14013.65</td>\n",
       "      <td>14019.10</td>\n",
       "      <td>14013.65</td>\n",
       "      <td>14016.20</td>\n",
       "      <td>NaN</td>\n",
       "    </tr>\n",
       "    <tr>\n",
       "      <th>4</th>\n",
       "      <td>NIFTY</td>\n",
       "      <td>2021-01-01</td>\n",
       "      <td>09:20</td>\n",
       "      <td>14015.45</td>\n",
       "      <td>14017.80</td>\n",
       "      <td>14011.95</td>\n",
       "      <td>14015.45</td>\n",
       "      <td>NaN</td>\n",
       "    </tr>\n",
       "    <tr>\n",
       "      <th>...</th>\n",
       "      <td>...</td>\n",
       "      <td>...</td>\n",
       "      <td>...</td>\n",
       "      <td>...</td>\n",
       "      <td>...</td>\n",
       "      <td>...</td>\n",
       "      <td>...</td>\n",
       "      <td>...</td>\n",
       "    </tr>\n",
       "    <tr>\n",
       "      <th>22800</th>\n",
       "      <td>NIFTY</td>\n",
       "      <td>2021-03-31</td>\n",
       "      <td>15:27</td>\n",
       "      <td>14687.35</td>\n",
       "      <td>14694.35</td>\n",
       "      <td>14686.30</td>\n",
       "      <td>14690.60</td>\n",
       "      <td>NaN</td>\n",
       "    </tr>\n",
       "    <tr>\n",
       "      <th>22801</th>\n",
       "      <td>NIFTY</td>\n",
       "      <td>2021-03-31</td>\n",
       "      <td>15:28</td>\n",
       "      <td>14690.90</td>\n",
       "      <td>14690.90</td>\n",
       "      <td>14686.05</td>\n",
       "      <td>14689.30</td>\n",
       "      <td>NaN</td>\n",
       "    </tr>\n",
       "    <tr>\n",
       "      <th>22802</th>\n",
       "      <td>NIFTY</td>\n",
       "      <td>2021-03-31</td>\n",
       "      <td>15:29</td>\n",
       "      <td>14690.30</td>\n",
       "      <td>14694.10</td>\n",
       "      <td>14688.55</td>\n",
       "      <td>14691.30</td>\n",
       "      <td>NaN</td>\n",
       "    </tr>\n",
       "    <tr>\n",
       "      <th>22803</th>\n",
       "      <td>NIFTY</td>\n",
       "      <td>2021-03-31</td>\n",
       "      <td>15:30</td>\n",
       "      <td>14689.85</td>\n",
       "      <td>14693.55</td>\n",
       "      <td>14689.45</td>\n",
       "      <td>14693.05</td>\n",
       "      <td>NaN</td>\n",
       "    </tr>\n",
       "    <tr>\n",
       "      <th>22804</th>\n",
       "      <td>NIFTY</td>\n",
       "      <td>2021-03-31</td>\n",
       "      <td>15:31</td>\n",
       "      <td>14690.70</td>\n",
       "      <td>14690.70</td>\n",
       "      <td>14690.70</td>\n",
       "      <td>14690.70</td>\n",
       "      <td>NaN</td>\n",
       "    </tr>\n",
       "  </tbody>\n",
       "</table>\n",
       "<p>22805 rows × 8 columns</p>\n",
       "</div>"
      ],
      "text/plain": [
       "        Type       Date   Time      open      high       low     close  \\\n",
       "0      NIFTY 2021-01-01  09:16  13997.90  14020.85  13991.35  14013.15   \n",
       "1      NIFTY 2021-01-01  09:17  14014.85  14018.55  14008.15  14009.05   \n",
       "2      NIFTY 2021-01-01  09:18  14008.05  14013.10  14005.05  14012.70   \n",
       "3      NIFTY 2021-01-01  09:19  14013.65  14019.10  14013.65  14016.20   \n",
       "4      NIFTY 2021-01-01  09:20  14015.45  14017.80  14011.95  14015.45   \n",
       "...      ...        ...    ...       ...       ...       ...       ...   \n",
       "22800  NIFTY 2021-03-31  15:27  14687.35  14694.35  14686.30  14690.60   \n",
       "22801  NIFTY 2021-03-31  15:28  14690.90  14690.90  14686.05  14689.30   \n",
       "22802  NIFTY 2021-03-31  15:29  14690.30  14694.10  14688.55  14691.30   \n",
       "22803  NIFTY 2021-03-31  15:30  14689.85  14693.55  14689.45  14693.05   \n",
       "22804  NIFTY 2021-03-31  15:31  14690.70  14690.70  14690.70  14690.70   \n",
       "\n",
       "       Unnamed: 7  \n",
       "0             NaN  \n",
       "1             NaN  \n",
       "2             NaN  \n",
       "3             NaN  \n",
       "4             NaN  \n",
       "...           ...  \n",
       "22800         NaN  \n",
       "22801         NaN  \n",
       "22802         NaN  \n",
       "22803         NaN  \n",
       "22804         NaN  \n",
       "\n",
       "[22805 rows x 8 columns]"
      ]
     },
     "execution_count": 6,
     "metadata": {},
     "output_type": "execute_result"
    }
   ],
   "source": [
    "data       # display the date"
   ]
  },
  {
   "cell_type": "markdown",
   "metadata": {},
   "source": [
    "##### To get the actual number of rows and columns present in the dataset:"
   ]
  },
  {
   "cell_type": "code",
   "execution_count": 7,
   "metadata": {},
   "outputs": [
    {
     "data": {
      "text/plain": [
       "(22805, 8)"
      ]
     },
     "execution_count": 7,
     "metadata": {},
     "output_type": "execute_result"
    }
   ],
   "source": [
    "data.shape"
   ]
  },
  {
   "cell_type": "code",
   "execution_count": 8,
   "metadata": {},
   "outputs": [
    {
     "data": {
      "text/plain": [
       "Index(['Type', 'Date', 'Time', 'open', 'high', 'low', 'close', 'Unnamed: 7'], dtype='object')"
      ]
     },
     "execution_count": 8,
     "metadata": {},
     "output_type": "execute_result"
    }
   ],
   "source": [
    "data.columns  # total columns with their column name"
   ]
  },
  {
   "cell_type": "markdown",
   "metadata": {},
   "source": [
    "##### Display the first 10 rows of the dataset:"
   ]
  },
  {
   "cell_type": "code",
   "execution_count": 9,
   "metadata": {
    "scrolled": true
   },
   "outputs": [
    {
     "data": {
      "text/html": [
       "<div>\n",
       "<style scoped>\n",
       "    .dataframe tbody tr th:only-of-type {\n",
       "        vertical-align: middle;\n",
       "    }\n",
       "\n",
       "    .dataframe tbody tr th {\n",
       "        vertical-align: top;\n",
       "    }\n",
       "\n",
       "    .dataframe thead th {\n",
       "        text-align: right;\n",
       "    }\n",
       "</style>\n",
       "<table border=\"1\" class=\"dataframe\">\n",
       "  <thead>\n",
       "    <tr style=\"text-align: right;\">\n",
       "      <th></th>\n",
       "      <th>Type</th>\n",
       "      <th>Date</th>\n",
       "      <th>Time</th>\n",
       "      <th>open</th>\n",
       "      <th>high</th>\n",
       "      <th>low</th>\n",
       "      <th>close</th>\n",
       "      <th>Unnamed: 7</th>\n",
       "    </tr>\n",
       "  </thead>\n",
       "  <tbody>\n",
       "    <tr>\n",
       "      <th>0</th>\n",
       "      <td>NIFTY</td>\n",
       "      <td>2021-01-01</td>\n",
       "      <td>09:16</td>\n",
       "      <td>13997.90</td>\n",
       "      <td>14020.85</td>\n",
       "      <td>13991.35</td>\n",
       "      <td>14013.15</td>\n",
       "      <td>NaN</td>\n",
       "    </tr>\n",
       "    <tr>\n",
       "      <th>1</th>\n",
       "      <td>NIFTY</td>\n",
       "      <td>2021-01-01</td>\n",
       "      <td>09:17</td>\n",
       "      <td>14014.85</td>\n",
       "      <td>14018.55</td>\n",
       "      <td>14008.15</td>\n",
       "      <td>14009.05</td>\n",
       "      <td>NaN</td>\n",
       "    </tr>\n",
       "    <tr>\n",
       "      <th>2</th>\n",
       "      <td>NIFTY</td>\n",
       "      <td>2021-01-01</td>\n",
       "      <td>09:18</td>\n",
       "      <td>14008.05</td>\n",
       "      <td>14013.10</td>\n",
       "      <td>14005.05</td>\n",
       "      <td>14012.70</td>\n",
       "      <td>NaN</td>\n",
       "    </tr>\n",
       "    <tr>\n",
       "      <th>3</th>\n",
       "      <td>NIFTY</td>\n",
       "      <td>2021-01-01</td>\n",
       "      <td>09:19</td>\n",
       "      <td>14013.65</td>\n",
       "      <td>14019.10</td>\n",
       "      <td>14013.65</td>\n",
       "      <td>14016.20</td>\n",
       "      <td>NaN</td>\n",
       "    </tr>\n",
       "    <tr>\n",
       "      <th>4</th>\n",
       "      <td>NIFTY</td>\n",
       "      <td>2021-01-01</td>\n",
       "      <td>09:20</td>\n",
       "      <td>14015.45</td>\n",
       "      <td>14017.80</td>\n",
       "      <td>14011.95</td>\n",
       "      <td>14015.45</td>\n",
       "      <td>NaN</td>\n",
       "    </tr>\n",
       "    <tr>\n",
       "      <th>5</th>\n",
       "      <td>NIFTY</td>\n",
       "      <td>2021-01-01</td>\n",
       "      <td>09:21</td>\n",
       "      <td>14016.00</td>\n",
       "      <td>14021.75</td>\n",
       "      <td>14006.40</td>\n",
       "      <td>14020.75</td>\n",
       "      <td>NaN</td>\n",
       "    </tr>\n",
       "    <tr>\n",
       "      <th>6</th>\n",
       "      <td>NIFTY</td>\n",
       "      <td>2021-01-01</td>\n",
       "      <td>09:22</td>\n",
       "      <td>14020.70</td>\n",
       "      <td>14023.45</td>\n",
       "      <td>14018.70</td>\n",
       "      <td>14019.45</td>\n",
       "      <td>NaN</td>\n",
       "    </tr>\n",
       "    <tr>\n",
       "      <th>7</th>\n",
       "      <td>NIFTY</td>\n",
       "      <td>2021-01-01</td>\n",
       "      <td>09:23</td>\n",
       "      <td>14018.40</td>\n",
       "      <td>14021.05</td>\n",
       "      <td>14017.45</td>\n",
       "      <td>14019.45</td>\n",
       "      <td>NaN</td>\n",
       "    </tr>\n",
       "    <tr>\n",
       "      <th>8</th>\n",
       "      <td>NIFTY</td>\n",
       "      <td>2021-01-01</td>\n",
       "      <td>09:24</td>\n",
       "      <td>14020.00</td>\n",
       "      <td>14020.00</td>\n",
       "      <td>14007.60</td>\n",
       "      <td>14010.50</td>\n",
       "      <td>NaN</td>\n",
       "    </tr>\n",
       "    <tr>\n",
       "      <th>9</th>\n",
       "      <td>NIFTY</td>\n",
       "      <td>2021-01-01</td>\n",
       "      <td>09:25</td>\n",
       "      <td>14010.25</td>\n",
       "      <td>14014.10</td>\n",
       "      <td>14007.30</td>\n",
       "      <td>14014.10</td>\n",
       "      <td>NaN</td>\n",
       "    </tr>\n",
       "  </tbody>\n",
       "</table>\n",
       "</div>"
      ],
      "text/plain": [
       "    Type       Date   Time      open      high       low     close  Unnamed: 7\n",
       "0  NIFTY 2021-01-01  09:16  13997.90  14020.85  13991.35  14013.15         NaN\n",
       "1  NIFTY 2021-01-01  09:17  14014.85  14018.55  14008.15  14009.05         NaN\n",
       "2  NIFTY 2021-01-01  09:18  14008.05  14013.10  14005.05  14012.70         NaN\n",
       "3  NIFTY 2021-01-01  09:19  14013.65  14019.10  14013.65  14016.20         NaN\n",
       "4  NIFTY 2021-01-01  09:20  14015.45  14017.80  14011.95  14015.45         NaN\n",
       "5  NIFTY 2021-01-01  09:21  14016.00  14021.75  14006.40  14020.75         NaN\n",
       "6  NIFTY 2021-01-01  09:22  14020.70  14023.45  14018.70  14019.45         NaN\n",
       "7  NIFTY 2021-01-01  09:23  14018.40  14021.05  14017.45  14019.45         NaN\n",
       "8  NIFTY 2021-01-01  09:24  14020.00  14020.00  14007.60  14010.50         NaN\n",
       "9  NIFTY 2021-01-01  09:25  14010.25  14014.10  14007.30  14014.10         NaN"
      ]
     },
     "execution_count": 9,
     "metadata": {},
     "output_type": "execute_result"
    }
   ],
   "source": [
    "data.head(10)"
   ]
  },
  {
   "cell_type": "markdown",
   "metadata": {},
   "source": [
    "##### Display last 10 rows of the dataset"
   ]
  },
  {
   "cell_type": "code",
   "execution_count": 10,
   "metadata": {
    "scrolled": true
   },
   "outputs": [
    {
     "data": {
      "text/html": [
       "<div>\n",
       "<style scoped>\n",
       "    .dataframe tbody tr th:only-of-type {\n",
       "        vertical-align: middle;\n",
       "    }\n",
       "\n",
       "    .dataframe tbody tr th {\n",
       "        vertical-align: top;\n",
       "    }\n",
       "\n",
       "    .dataframe thead th {\n",
       "        text-align: right;\n",
       "    }\n",
       "</style>\n",
       "<table border=\"1\" class=\"dataframe\">\n",
       "  <thead>\n",
       "    <tr style=\"text-align: right;\">\n",
       "      <th></th>\n",
       "      <th>Type</th>\n",
       "      <th>Date</th>\n",
       "      <th>Time</th>\n",
       "      <th>open</th>\n",
       "      <th>high</th>\n",
       "      <th>low</th>\n",
       "      <th>close</th>\n",
       "      <th>Unnamed: 7</th>\n",
       "    </tr>\n",
       "  </thead>\n",
       "  <tbody>\n",
       "    <tr>\n",
       "      <th>22795</th>\n",
       "      <td>NIFTY</td>\n",
       "      <td>2021-03-31</td>\n",
       "      <td>15:22</td>\n",
       "      <td>14687.85</td>\n",
       "      <td>14699.90</td>\n",
       "      <td>14676.05</td>\n",
       "      <td>14682.30</td>\n",
       "      <td>NaN</td>\n",
       "    </tr>\n",
       "    <tr>\n",
       "      <th>22796</th>\n",
       "      <td>NIFTY</td>\n",
       "      <td>2021-03-31</td>\n",
       "      <td>15:23</td>\n",
       "      <td>14682.20</td>\n",
       "      <td>14693.00</td>\n",
       "      <td>14682.20</td>\n",
       "      <td>14688.70</td>\n",
       "      <td>NaN</td>\n",
       "    </tr>\n",
       "    <tr>\n",
       "      <th>22797</th>\n",
       "      <td>NIFTY</td>\n",
       "      <td>2021-03-31</td>\n",
       "      <td>15:24</td>\n",
       "      <td>14688.40</td>\n",
       "      <td>14688.80</td>\n",
       "      <td>14683.90</td>\n",
       "      <td>14685.15</td>\n",
       "      <td>NaN</td>\n",
       "    </tr>\n",
       "    <tr>\n",
       "      <th>22798</th>\n",
       "      <td>NIFTY</td>\n",
       "      <td>2021-03-31</td>\n",
       "      <td>15:25</td>\n",
       "      <td>14685.85</td>\n",
       "      <td>14688.10</td>\n",
       "      <td>14685.50</td>\n",
       "      <td>14687.75</td>\n",
       "      <td>NaN</td>\n",
       "    </tr>\n",
       "    <tr>\n",
       "      <th>22799</th>\n",
       "      <td>NIFTY</td>\n",
       "      <td>2021-03-31</td>\n",
       "      <td>15:26</td>\n",
       "      <td>14687.25</td>\n",
       "      <td>14697.15</td>\n",
       "      <td>14686.80</td>\n",
       "      <td>14687.65</td>\n",
       "      <td>NaN</td>\n",
       "    </tr>\n",
       "    <tr>\n",
       "      <th>22800</th>\n",
       "      <td>NIFTY</td>\n",
       "      <td>2021-03-31</td>\n",
       "      <td>15:27</td>\n",
       "      <td>14687.35</td>\n",
       "      <td>14694.35</td>\n",
       "      <td>14686.30</td>\n",
       "      <td>14690.60</td>\n",
       "      <td>NaN</td>\n",
       "    </tr>\n",
       "    <tr>\n",
       "      <th>22801</th>\n",
       "      <td>NIFTY</td>\n",
       "      <td>2021-03-31</td>\n",
       "      <td>15:28</td>\n",
       "      <td>14690.90</td>\n",
       "      <td>14690.90</td>\n",
       "      <td>14686.05</td>\n",
       "      <td>14689.30</td>\n",
       "      <td>NaN</td>\n",
       "    </tr>\n",
       "    <tr>\n",
       "      <th>22802</th>\n",
       "      <td>NIFTY</td>\n",
       "      <td>2021-03-31</td>\n",
       "      <td>15:29</td>\n",
       "      <td>14690.30</td>\n",
       "      <td>14694.10</td>\n",
       "      <td>14688.55</td>\n",
       "      <td>14691.30</td>\n",
       "      <td>NaN</td>\n",
       "    </tr>\n",
       "    <tr>\n",
       "      <th>22803</th>\n",
       "      <td>NIFTY</td>\n",
       "      <td>2021-03-31</td>\n",
       "      <td>15:30</td>\n",
       "      <td>14689.85</td>\n",
       "      <td>14693.55</td>\n",
       "      <td>14689.45</td>\n",
       "      <td>14693.05</td>\n",
       "      <td>NaN</td>\n",
       "    </tr>\n",
       "    <tr>\n",
       "      <th>22804</th>\n",
       "      <td>NIFTY</td>\n",
       "      <td>2021-03-31</td>\n",
       "      <td>15:31</td>\n",
       "      <td>14690.70</td>\n",
       "      <td>14690.70</td>\n",
       "      <td>14690.70</td>\n",
       "      <td>14690.70</td>\n",
       "      <td>NaN</td>\n",
       "    </tr>\n",
       "  </tbody>\n",
       "</table>\n",
       "</div>"
      ],
      "text/plain": [
       "        Type       Date   Time      open      high       low     close  \\\n",
       "22795  NIFTY 2021-03-31  15:22  14687.85  14699.90  14676.05  14682.30   \n",
       "22796  NIFTY 2021-03-31  15:23  14682.20  14693.00  14682.20  14688.70   \n",
       "22797  NIFTY 2021-03-31  15:24  14688.40  14688.80  14683.90  14685.15   \n",
       "22798  NIFTY 2021-03-31  15:25  14685.85  14688.10  14685.50  14687.75   \n",
       "22799  NIFTY 2021-03-31  15:26  14687.25  14697.15  14686.80  14687.65   \n",
       "22800  NIFTY 2021-03-31  15:27  14687.35  14694.35  14686.30  14690.60   \n",
       "22801  NIFTY 2021-03-31  15:28  14690.90  14690.90  14686.05  14689.30   \n",
       "22802  NIFTY 2021-03-31  15:29  14690.30  14694.10  14688.55  14691.30   \n",
       "22803  NIFTY 2021-03-31  15:30  14689.85  14693.55  14689.45  14693.05   \n",
       "22804  NIFTY 2021-03-31  15:31  14690.70  14690.70  14690.70  14690.70   \n",
       "\n",
       "       Unnamed: 7  \n",
       "22795         NaN  \n",
       "22796         NaN  \n",
       "22797         NaN  \n",
       "22798         NaN  \n",
       "22799         NaN  \n",
       "22800         NaN  \n",
       "22801         NaN  \n",
       "22802         NaN  \n",
       "22803         NaN  \n",
       "22804         NaN  "
      ]
     },
     "execution_count": 10,
     "metadata": {},
     "output_type": "execute_result"
    }
   ],
   "source": [
    "data.tail(10)"
   ]
  },
  {
   "cell_type": "code",
   "execution_count": 11,
   "metadata": {
    "scrolled": true
   },
   "outputs": [
    {
     "name": "stdout",
     "output_type": "stream",
     "text": [
      "<class 'pandas.core.frame.DataFrame'>\n",
      "RangeIndex: 22805 entries, 0 to 22804\n",
      "Data columns (total 8 columns):\n",
      " #   Column      Non-Null Count  Dtype         \n",
      "---  ------      --------------  -----         \n",
      " 0   Type        22805 non-null  object        \n",
      " 1   Date        22805 non-null  datetime64[ns]\n",
      " 2   Time        22805 non-null  object        \n",
      " 3   open        22805 non-null  float64       \n",
      " 4   high        22805 non-null  float64       \n",
      " 5   low         22805 non-null  float64       \n",
      " 6   close       22805 non-null  float64       \n",
      " 7   Unnamed: 7  0 non-null      float64       \n",
      "dtypes: datetime64[ns](1), float64(5), object(2)\n",
      "memory usage: 1.4+ MB\n"
     ]
    }
   ],
   "source": [
    "data.info()"
   ]
  },
  {
   "cell_type": "markdown",
   "metadata": {},
   "source": [
    "#### Dropping down Type column"
   ]
  },
  {
   "cell_type": "code",
   "execution_count": 12,
   "metadata": {
    "scrolled": true
   },
   "outputs": [
    {
     "data": {
      "text/html": [
       "<div>\n",
       "<style scoped>\n",
       "    .dataframe tbody tr th:only-of-type {\n",
       "        vertical-align: middle;\n",
       "    }\n",
       "\n",
       "    .dataframe tbody tr th {\n",
       "        vertical-align: top;\n",
       "    }\n",
       "\n",
       "    .dataframe thead th {\n",
       "        text-align: right;\n",
       "    }\n",
       "</style>\n",
       "<table border=\"1\" class=\"dataframe\">\n",
       "  <thead>\n",
       "    <tr style=\"text-align: right;\">\n",
       "      <th></th>\n",
       "      <th>Date</th>\n",
       "      <th>Time</th>\n",
       "      <th>open</th>\n",
       "      <th>high</th>\n",
       "      <th>low</th>\n",
       "      <th>close</th>\n",
       "      <th>Unnamed: 7</th>\n",
       "    </tr>\n",
       "  </thead>\n",
       "  <tbody>\n",
       "    <tr>\n",
       "      <th>0</th>\n",
       "      <td>2021-01-01</td>\n",
       "      <td>09:16</td>\n",
       "      <td>13997.90</td>\n",
       "      <td>14020.85</td>\n",
       "      <td>13991.35</td>\n",
       "      <td>14013.15</td>\n",
       "      <td>NaN</td>\n",
       "    </tr>\n",
       "    <tr>\n",
       "      <th>1</th>\n",
       "      <td>2021-01-01</td>\n",
       "      <td>09:17</td>\n",
       "      <td>14014.85</td>\n",
       "      <td>14018.55</td>\n",
       "      <td>14008.15</td>\n",
       "      <td>14009.05</td>\n",
       "      <td>NaN</td>\n",
       "    </tr>\n",
       "    <tr>\n",
       "      <th>2</th>\n",
       "      <td>2021-01-01</td>\n",
       "      <td>09:18</td>\n",
       "      <td>14008.05</td>\n",
       "      <td>14013.10</td>\n",
       "      <td>14005.05</td>\n",
       "      <td>14012.70</td>\n",
       "      <td>NaN</td>\n",
       "    </tr>\n",
       "    <tr>\n",
       "      <th>3</th>\n",
       "      <td>2021-01-01</td>\n",
       "      <td>09:19</td>\n",
       "      <td>14013.65</td>\n",
       "      <td>14019.10</td>\n",
       "      <td>14013.65</td>\n",
       "      <td>14016.20</td>\n",
       "      <td>NaN</td>\n",
       "    </tr>\n",
       "    <tr>\n",
       "      <th>4</th>\n",
       "      <td>2021-01-01</td>\n",
       "      <td>09:20</td>\n",
       "      <td>14015.45</td>\n",
       "      <td>14017.80</td>\n",
       "      <td>14011.95</td>\n",
       "      <td>14015.45</td>\n",
       "      <td>NaN</td>\n",
       "    </tr>\n",
       "    <tr>\n",
       "      <th>5</th>\n",
       "      <td>2021-01-01</td>\n",
       "      <td>09:21</td>\n",
       "      <td>14016.00</td>\n",
       "      <td>14021.75</td>\n",
       "      <td>14006.40</td>\n",
       "      <td>14020.75</td>\n",
       "      <td>NaN</td>\n",
       "    </tr>\n",
       "    <tr>\n",
       "      <th>6</th>\n",
       "      <td>2021-01-01</td>\n",
       "      <td>09:22</td>\n",
       "      <td>14020.70</td>\n",
       "      <td>14023.45</td>\n",
       "      <td>14018.70</td>\n",
       "      <td>14019.45</td>\n",
       "      <td>NaN</td>\n",
       "    </tr>\n",
       "    <tr>\n",
       "      <th>7</th>\n",
       "      <td>2021-01-01</td>\n",
       "      <td>09:23</td>\n",
       "      <td>14018.40</td>\n",
       "      <td>14021.05</td>\n",
       "      <td>14017.45</td>\n",
       "      <td>14019.45</td>\n",
       "      <td>NaN</td>\n",
       "    </tr>\n",
       "    <tr>\n",
       "      <th>8</th>\n",
       "      <td>2021-01-01</td>\n",
       "      <td>09:24</td>\n",
       "      <td>14020.00</td>\n",
       "      <td>14020.00</td>\n",
       "      <td>14007.60</td>\n",
       "      <td>14010.50</td>\n",
       "      <td>NaN</td>\n",
       "    </tr>\n",
       "    <tr>\n",
       "      <th>9</th>\n",
       "      <td>2021-01-01</td>\n",
       "      <td>09:25</td>\n",
       "      <td>14010.25</td>\n",
       "      <td>14014.10</td>\n",
       "      <td>14007.30</td>\n",
       "      <td>14014.10</td>\n",
       "      <td>NaN</td>\n",
       "    </tr>\n",
       "  </tbody>\n",
       "</table>\n",
       "</div>"
      ],
      "text/plain": [
       "        Date   Time      open      high       low     close  Unnamed: 7\n",
       "0 2021-01-01  09:16  13997.90  14020.85  13991.35  14013.15         NaN\n",
       "1 2021-01-01  09:17  14014.85  14018.55  14008.15  14009.05         NaN\n",
       "2 2021-01-01  09:18  14008.05  14013.10  14005.05  14012.70         NaN\n",
       "3 2021-01-01  09:19  14013.65  14019.10  14013.65  14016.20         NaN\n",
       "4 2021-01-01  09:20  14015.45  14017.80  14011.95  14015.45         NaN\n",
       "5 2021-01-01  09:21  14016.00  14021.75  14006.40  14020.75         NaN\n",
       "6 2021-01-01  09:22  14020.70  14023.45  14018.70  14019.45         NaN\n",
       "7 2021-01-01  09:23  14018.40  14021.05  14017.45  14019.45         NaN\n",
       "8 2021-01-01  09:24  14020.00  14020.00  14007.60  14010.50         NaN\n",
       "9 2021-01-01  09:25  14010.25  14014.10  14007.30  14014.10         NaN"
      ]
     },
     "execution_count": 12,
     "metadata": {},
     "output_type": "execute_result"
    }
   ],
   "source": [
    "data_1=data.drop('Type',axis=1)\n",
    "data_1.head(10)"
   ]
  },
  {
   "cell_type": "markdown",
   "metadata": {},
   "source": [
    "##### Describe the new dataset to get the total count, mean, standard deviation, minimum and maximum value and percentage values in the respective column"
   ]
  },
  {
   "cell_type": "code",
   "execution_count": 13,
   "metadata": {},
   "outputs": [
    {
     "data": {
      "text/html": [
       "<div>\n",
       "<style scoped>\n",
       "    .dataframe tbody tr th:only-of-type {\n",
       "        vertical-align: middle;\n",
       "    }\n",
       "\n",
       "    .dataframe tbody tr th {\n",
       "        vertical-align: top;\n",
       "    }\n",
       "\n",
       "    .dataframe thead th {\n",
       "        text-align: right;\n",
       "    }\n",
       "</style>\n",
       "<table border=\"1\" class=\"dataframe\">\n",
       "  <thead>\n",
       "    <tr style=\"text-align: right;\">\n",
       "      <th></th>\n",
       "      <th>open</th>\n",
       "      <th>high</th>\n",
       "      <th>low</th>\n",
       "      <th>close</th>\n",
       "      <th>Unnamed: 7</th>\n",
       "    </tr>\n",
       "  </thead>\n",
       "  <tbody>\n",
       "    <tr>\n",
       "      <th>count</th>\n",
       "      <td>22805.000000</td>\n",
       "      <td>22805.000000</td>\n",
       "      <td>22805.000000</td>\n",
       "      <td>22805.000000</td>\n",
       "      <td>0.0</td>\n",
       "    </tr>\n",
       "    <tr>\n",
       "      <th>mean</th>\n",
       "      <td>14703.322396</td>\n",
       "      <td>14707.486481</td>\n",
       "      <td>14699.102201</td>\n",
       "      <td>14703.260816</td>\n",
       "      <td>NaN</td>\n",
       "    </tr>\n",
       "    <tr>\n",
       "      <th>std</th>\n",
       "      <td>391.377498</td>\n",
       "      <td>391.265231</td>\n",
       "      <td>391.551643</td>\n",
       "      <td>391.366248</td>\n",
       "      <td>NaN</td>\n",
       "    </tr>\n",
       "    <tr>\n",
       "      <th>min</th>\n",
       "      <td>13604.750000</td>\n",
       "      <td>13614.400000</td>\n",
       "      <td>13596.750000</td>\n",
       "      <td>13602.800000</td>\n",
       "      <td>NaN</td>\n",
       "    </tr>\n",
       "    <tr>\n",
       "      <th>25%</th>\n",
       "      <td>14462.250000</td>\n",
       "      <td>14465.950000</td>\n",
       "      <td>14458.050000</td>\n",
       "      <td>14461.950000</td>\n",
       "      <td>NaN</td>\n",
       "    </tr>\n",
       "    <tr>\n",
       "      <th>50%</th>\n",
       "      <td>14739.500000</td>\n",
       "      <td>14743.000000</td>\n",
       "      <td>14735.850000</td>\n",
       "      <td>14739.450000</td>\n",
       "      <td>NaN</td>\n",
       "    </tr>\n",
       "    <tr>\n",
       "      <th>75%</th>\n",
       "      <td>15037.000000</td>\n",
       "      <td>15041.250000</td>\n",
       "      <td>15032.500000</td>\n",
       "      <td>15036.850000</td>\n",
       "      <td>NaN</td>\n",
       "    </tr>\n",
       "    <tr>\n",
       "      <th>max</th>\n",
       "      <td>15429.500000</td>\n",
       "      <td>15431.750000</td>\n",
       "      <td>15427.900000</td>\n",
       "      <td>15430.200000</td>\n",
       "      <td>NaN</td>\n",
       "    </tr>\n",
       "  </tbody>\n",
       "</table>\n",
       "</div>"
      ],
      "text/plain": [
       "               open          high           low         close  Unnamed: 7\n",
       "count  22805.000000  22805.000000  22805.000000  22805.000000         0.0\n",
       "mean   14703.322396  14707.486481  14699.102201  14703.260816         NaN\n",
       "std      391.377498    391.265231    391.551643    391.366248         NaN\n",
       "min    13604.750000  13614.400000  13596.750000  13602.800000         NaN\n",
       "25%    14462.250000  14465.950000  14458.050000  14461.950000         NaN\n",
       "50%    14739.500000  14743.000000  14735.850000  14739.450000         NaN\n",
       "75%    15037.000000  15041.250000  15032.500000  15036.850000         NaN\n",
       "max    15429.500000  15431.750000  15427.900000  15430.200000         NaN"
      ]
     },
     "execution_count": 13,
     "metadata": {},
     "output_type": "execute_result"
    }
   ],
   "source": [
    "data_1.describe()"
   ]
  },
  {
   "cell_type": "markdown",
   "metadata": {},
   "source": [
    "##### Get the total number of unique values the dataset:"
   ]
  },
  {
   "cell_type": "code",
   "execution_count": 14,
   "metadata": {},
   "outputs": [
    {
     "data": {
      "text/plain": [
       "Date             61\n",
       "Time            457\n",
       "open          14944\n",
       "high          15007\n",
       "low           15101\n",
       "close         15036\n",
       "Unnamed: 7        0\n",
       "dtype: int64"
      ]
     },
     "execution_count": 14,
     "metadata": {},
     "output_type": "execute_result"
    }
   ],
   "source": [
    "data_1.nunique()"
   ]
  },
  {
   "cell_type": "markdown",
   "metadata": {},
   "source": [
    "## Data Cleaning:"
   ]
  },
  {
   "cell_type": "markdown",
   "metadata": {},
   "source": [
    "##### Let us have a look whether the dataset has any null values"
   ]
  },
  {
   "cell_type": "code",
   "execution_count": 15,
   "metadata": {},
   "outputs": [
    {
     "data": {
      "text/html": [
       "<div>\n",
       "<style scoped>\n",
       "    .dataframe tbody tr th:only-of-type {\n",
       "        vertical-align: middle;\n",
       "    }\n",
       "\n",
       "    .dataframe tbody tr th {\n",
       "        vertical-align: top;\n",
       "    }\n",
       "\n",
       "    .dataframe thead th {\n",
       "        text-align: right;\n",
       "    }\n",
       "</style>\n",
       "<table border=\"1\" class=\"dataframe\">\n",
       "  <thead>\n",
       "    <tr style=\"text-align: right;\">\n",
       "      <th></th>\n",
       "      <th>Date</th>\n",
       "      <th>Time</th>\n",
       "      <th>open</th>\n",
       "      <th>high</th>\n",
       "      <th>low</th>\n",
       "      <th>close</th>\n",
       "      <th>Unnamed: 7</th>\n",
       "    </tr>\n",
       "  </thead>\n",
       "  <tbody>\n",
       "    <tr>\n",
       "      <th>0</th>\n",
       "      <td>False</td>\n",
       "      <td>False</td>\n",
       "      <td>False</td>\n",
       "      <td>False</td>\n",
       "      <td>False</td>\n",
       "      <td>False</td>\n",
       "      <td>True</td>\n",
       "    </tr>\n",
       "    <tr>\n",
       "      <th>1</th>\n",
       "      <td>False</td>\n",
       "      <td>False</td>\n",
       "      <td>False</td>\n",
       "      <td>False</td>\n",
       "      <td>False</td>\n",
       "      <td>False</td>\n",
       "      <td>True</td>\n",
       "    </tr>\n",
       "    <tr>\n",
       "      <th>2</th>\n",
       "      <td>False</td>\n",
       "      <td>False</td>\n",
       "      <td>False</td>\n",
       "      <td>False</td>\n",
       "      <td>False</td>\n",
       "      <td>False</td>\n",
       "      <td>True</td>\n",
       "    </tr>\n",
       "    <tr>\n",
       "      <th>3</th>\n",
       "      <td>False</td>\n",
       "      <td>False</td>\n",
       "      <td>False</td>\n",
       "      <td>False</td>\n",
       "      <td>False</td>\n",
       "      <td>False</td>\n",
       "      <td>True</td>\n",
       "    </tr>\n",
       "    <tr>\n",
       "      <th>4</th>\n",
       "      <td>False</td>\n",
       "      <td>False</td>\n",
       "      <td>False</td>\n",
       "      <td>False</td>\n",
       "      <td>False</td>\n",
       "      <td>False</td>\n",
       "      <td>True</td>\n",
       "    </tr>\n",
       "    <tr>\n",
       "      <th>...</th>\n",
       "      <td>...</td>\n",
       "      <td>...</td>\n",
       "      <td>...</td>\n",
       "      <td>...</td>\n",
       "      <td>...</td>\n",
       "      <td>...</td>\n",
       "      <td>...</td>\n",
       "    </tr>\n",
       "    <tr>\n",
       "      <th>22800</th>\n",
       "      <td>False</td>\n",
       "      <td>False</td>\n",
       "      <td>False</td>\n",
       "      <td>False</td>\n",
       "      <td>False</td>\n",
       "      <td>False</td>\n",
       "      <td>True</td>\n",
       "    </tr>\n",
       "    <tr>\n",
       "      <th>22801</th>\n",
       "      <td>False</td>\n",
       "      <td>False</td>\n",
       "      <td>False</td>\n",
       "      <td>False</td>\n",
       "      <td>False</td>\n",
       "      <td>False</td>\n",
       "      <td>True</td>\n",
       "    </tr>\n",
       "    <tr>\n",
       "      <th>22802</th>\n",
       "      <td>False</td>\n",
       "      <td>False</td>\n",
       "      <td>False</td>\n",
       "      <td>False</td>\n",
       "      <td>False</td>\n",
       "      <td>False</td>\n",
       "      <td>True</td>\n",
       "    </tr>\n",
       "    <tr>\n",
       "      <th>22803</th>\n",
       "      <td>False</td>\n",
       "      <td>False</td>\n",
       "      <td>False</td>\n",
       "      <td>False</td>\n",
       "      <td>False</td>\n",
       "      <td>False</td>\n",
       "      <td>True</td>\n",
       "    </tr>\n",
       "    <tr>\n",
       "      <th>22804</th>\n",
       "      <td>False</td>\n",
       "      <td>False</td>\n",
       "      <td>False</td>\n",
       "      <td>False</td>\n",
       "      <td>False</td>\n",
       "      <td>False</td>\n",
       "      <td>True</td>\n",
       "    </tr>\n",
       "  </tbody>\n",
       "</table>\n",
       "<p>22805 rows × 7 columns</p>\n",
       "</div>"
      ],
      "text/plain": [
       "        Date   Time   open   high    low  close  Unnamed: 7\n",
       "0      False  False  False  False  False  False        True\n",
       "1      False  False  False  False  False  False        True\n",
       "2      False  False  False  False  False  False        True\n",
       "3      False  False  False  False  False  False        True\n",
       "4      False  False  False  False  False  False        True\n",
       "...      ...    ...    ...    ...    ...    ...         ...\n",
       "22800  False  False  False  False  False  False        True\n",
       "22801  False  False  False  False  False  False        True\n",
       "22802  False  False  False  False  False  False        True\n",
       "22803  False  False  False  False  False  False        True\n",
       "22804  False  False  False  False  False  False        True\n",
       "\n",
       "[22805 rows x 7 columns]"
      ]
     },
     "execution_count": 15,
     "metadata": {},
     "output_type": "execute_result"
    }
   ],
   "source": [
    "data_1.isnull()"
   ]
  },
  {
   "cell_type": "markdown",
   "metadata": {},
   "source": [
    "##### From the above output we can see that column \"Unnamed: 7\" contains some null values and is represented by the Boolean value True"
   ]
  },
  {
   "cell_type": "markdown",
   "metadata": {},
   "source": [
    "##### Lets find the total number of rows consisting of null values"
   ]
  },
  {
   "cell_type": "code",
   "execution_count": 16,
   "metadata": {},
   "outputs": [
    {
     "data": {
      "text/plain": [
       "Date              0\n",
       "Time              0\n",
       "open              0\n",
       "high              0\n",
       "low               0\n",
       "close             0\n",
       "Unnamed: 7    22805\n",
       "dtype: int64"
      ]
     },
     "execution_count": 16,
     "metadata": {},
     "output_type": "execute_result"
    }
   ],
   "source": [
    "data_1.isnull().sum()"
   ]
  },
  {
   "cell_type": "markdown",
   "metadata": {},
   "source": [
    "##### We have observed that  Unnamed: 7 column has 22805 null values"
   ]
  },
  {
   "cell_type": "markdown",
   "metadata": {},
   "source": [
    "##### Lets see the dataset by plotting  a boxplot and observe any changes in \"Unnamed:7\" so that we can proceed for dropping the whole column as follows:"
   ]
  },
  {
   "cell_type": "code",
   "execution_count": 17,
   "metadata": {
    "scrolled": false
   },
   "outputs": [
    {
     "data": {
      "text/plain": [
       "<AxesSubplot:>"
      ]
     },
     "execution_count": 17,
     "metadata": {},
     "output_type": "execute_result"
    },
    {
     "data": {
      "image/png": "[encoded data removed]",
      "text/plain": [
       "<Figure size 432x288 with 1 Axes>"
      ]
     },
     "metadata": {
      "needs_background": "light"
     },
     "output_type": "display_data"
    }
   ],
   "source": [
    "data_1.boxplot()"
   ]
  },
  {
   "cell_type": "markdown",
   "metadata": {},
   "source": [
    "#### From the above boxplot we can see that there is no any movements in the plots for \"Unnamed: 7\" thus we can drop the column using function dropna as follows:"
   ]
  },
  {
   "cell_type": "code",
   "execution_count": 18,
   "metadata": {
    "scrolled": true
   },
   "outputs": [
    {
     "data": {
      "text/html": [
       "<div>\n",
       "<style scoped>\n",
       "    .dataframe tbody tr th:only-of-type {\n",
       "        vertical-align: middle;\n",
       "    }\n",
       "\n",
       "    .dataframe tbody tr th {\n",
       "        vertical-align: top;\n",
       "    }\n",
       "\n",
       "    .dataframe thead th {\n",
       "        text-align: right;\n",
       "    }\n",
       "</style>\n",
       "<table border=\"1\" class=\"dataframe\">\n",
       "  <thead>\n",
       "    <tr style=\"text-align: right;\">\n",
       "      <th></th>\n",
       "      <th>Date</th>\n",
       "      <th>Time</th>\n",
       "      <th>open</th>\n",
       "      <th>high</th>\n",
       "      <th>low</th>\n",
       "      <th>close</th>\n",
       "    </tr>\n",
       "  </thead>\n",
       "  <tbody>\n",
       "    <tr>\n",
       "      <th>0</th>\n",
       "      <td>2021-01-01</td>\n",
       "      <td>09:16</td>\n",
       "      <td>13997.90</td>\n",
       "      <td>14020.85</td>\n",
       "      <td>13991.35</td>\n",
       "      <td>14013.15</td>\n",
       "    </tr>\n",
       "    <tr>\n",
       "      <th>1</th>\n",
       "      <td>2021-01-01</td>\n",
       "      <td>09:17</td>\n",
       "      <td>14014.85</td>\n",
       "      <td>14018.55</td>\n",
       "      <td>14008.15</td>\n",
       "      <td>14009.05</td>\n",
       "    </tr>\n",
       "    <tr>\n",
       "      <th>2</th>\n",
       "      <td>2021-01-01</td>\n",
       "      <td>09:18</td>\n",
       "      <td>14008.05</td>\n",
       "      <td>14013.10</td>\n",
       "      <td>14005.05</td>\n",
       "      <td>14012.70</td>\n",
       "    </tr>\n",
       "    <tr>\n",
       "      <th>3</th>\n",
       "      <td>2021-01-01</td>\n",
       "      <td>09:19</td>\n",
       "      <td>14013.65</td>\n",
       "      <td>14019.10</td>\n",
       "      <td>14013.65</td>\n",
       "      <td>14016.20</td>\n",
       "    </tr>\n",
       "    <tr>\n",
       "      <th>4</th>\n",
       "      <td>2021-01-01</td>\n",
       "      <td>09:20</td>\n",
       "      <td>14015.45</td>\n",
       "      <td>14017.80</td>\n",
       "      <td>14011.95</td>\n",
       "      <td>14015.45</td>\n",
       "    </tr>\n",
       "    <tr>\n",
       "      <th>...</th>\n",
       "      <td>...</td>\n",
       "      <td>...</td>\n",
       "      <td>...</td>\n",
       "      <td>...</td>\n",
       "      <td>...</td>\n",
       "      <td>...</td>\n",
       "    </tr>\n",
       "    <tr>\n",
       "      <th>22800</th>\n",
       "      <td>2021-03-31</td>\n",
       "      <td>15:27</td>\n",
       "      <td>14687.35</td>\n",
       "      <td>14694.35</td>\n",
       "      <td>14686.30</td>\n",
       "      <td>14690.60</td>\n",
       "    </tr>\n",
       "    <tr>\n",
       "      <th>22801</th>\n",
       "      <td>2021-03-31</td>\n",
       "      <td>15:28</td>\n",
       "      <td>14690.90</td>\n",
       "      <td>14690.90</td>\n",
       "      <td>14686.05</td>\n",
       "      <td>14689.30</td>\n",
       "    </tr>\n",
       "    <tr>\n",
       "      <th>22802</th>\n",
       "      <td>2021-03-31</td>\n",
       "      <td>15:29</td>\n",
       "      <td>14690.30</td>\n",
       "      <td>14694.10</td>\n",
       "      <td>14688.55</td>\n",
       "      <td>14691.30</td>\n",
       "    </tr>\n",
       "    <tr>\n",
       "      <th>22803</th>\n",
       "      <td>2021-03-31</td>\n",
       "      <td>15:30</td>\n",
       "      <td>14689.85</td>\n",
       "      <td>14693.55</td>\n",
       "      <td>14689.45</td>\n",
       "      <td>14693.05</td>\n",
       "    </tr>\n",
       "    <tr>\n",
       "      <th>22804</th>\n",
       "      <td>2021-03-31</td>\n",
       "      <td>15:31</td>\n",
       "      <td>14690.70</td>\n",
       "      <td>14690.70</td>\n",
       "      <td>14690.70</td>\n",
       "      <td>14690.70</td>\n",
       "    </tr>\n",
       "  </tbody>\n",
       "</table>\n",
       "<p>22805 rows × 6 columns</p>\n",
       "</div>"
      ],
      "text/plain": [
       "            Date   Time      open      high       low     close\n",
       "0     2021-01-01  09:16  13997.90  14020.85  13991.35  14013.15\n",
       "1     2021-01-01  09:17  14014.85  14018.55  14008.15  14009.05\n",
       "2     2021-01-01  09:18  14008.05  14013.10  14005.05  14012.70\n",
       "3     2021-01-01  09:19  14013.65  14019.10  14013.65  14016.20\n",
       "4     2021-01-01  09:20  14015.45  14017.80  14011.95  14015.45\n",
       "...          ...    ...       ...       ...       ...       ...\n",
       "22800 2021-03-31  15:27  14687.35  14694.35  14686.30  14690.60\n",
       "22801 2021-03-31  15:28  14690.90  14690.90  14686.05  14689.30\n",
       "22802 2021-03-31  15:29  14690.30  14694.10  14688.55  14691.30\n",
       "22803 2021-03-31  15:30  14689.85  14693.55  14689.45  14693.05\n",
       "22804 2021-03-31  15:31  14690.70  14690.70  14690.70  14690.70\n",
       "\n",
       "[22805 rows x 6 columns]"
      ]
     },
     "execution_count": 18,
     "metadata": {},
     "output_type": "execute_result"
    }
   ],
   "source": [
    "cleaned_data=data_1.dropna(axis=1)\n",
    "cleaned_data"
   ]
  },
  {
   "cell_type": "code",
   "execution_count": 19,
   "metadata": {},
   "outputs": [
    {
     "data": {
      "text/plain": [
       "Index(['Date', 'Time', 'open', 'high', 'low', 'close'], dtype='object')"
      ]
     },
     "execution_count": 19,
     "metadata": {},
     "output_type": "execute_result"
    }
   ],
   "source": [
    "cleaned_data.columns  #confirm whether we have dropped a column with all null values"
   ]
  },
  {
   "cell_type": "code",
   "execution_count": 20,
   "metadata": {},
   "outputs": [
    {
     "data": {
      "text/html": [
       "<div>\n",
       "<style scoped>\n",
       "    .dataframe tbody tr th:only-of-type {\n",
       "        vertical-align: middle;\n",
       "    }\n",
       "\n",
       "    .dataframe tbody tr th {\n",
       "        vertical-align: top;\n",
       "    }\n",
       "\n",
       "    .dataframe thead th {\n",
       "        text-align: right;\n",
       "    }\n",
       "</style>\n",
       "<table border=\"1\" class=\"dataframe\">\n",
       "  <thead>\n",
       "    <tr style=\"text-align: right;\">\n",
       "      <th></th>\n",
       "      <th>Date</th>\n",
       "      <th>Time</th>\n",
       "      <th>open</th>\n",
       "      <th>high</th>\n",
       "      <th>low</th>\n",
       "      <th>close</th>\n",
       "    </tr>\n",
       "  </thead>\n",
       "  <tbody>\n",
       "    <tr>\n",
       "      <th>0</th>\n",
       "      <td>2021-01-01</td>\n",
       "      <td>09:16</td>\n",
       "      <td>13997.90</td>\n",
       "      <td>14020.85</td>\n",
       "      <td>13991.35</td>\n",
       "      <td>14013.15</td>\n",
       "    </tr>\n",
       "    <tr>\n",
       "      <th>1</th>\n",
       "      <td>2021-01-01</td>\n",
       "      <td>09:17</td>\n",
       "      <td>14014.85</td>\n",
       "      <td>14018.55</td>\n",
       "      <td>14008.15</td>\n",
       "      <td>14009.05</td>\n",
       "    </tr>\n",
       "    <tr>\n",
       "      <th>2</th>\n",
       "      <td>2021-01-01</td>\n",
       "      <td>09:18</td>\n",
       "      <td>14008.05</td>\n",
       "      <td>14013.10</td>\n",
       "      <td>14005.05</td>\n",
       "      <td>14012.70</td>\n",
       "    </tr>\n",
       "    <tr>\n",
       "      <th>3</th>\n",
       "      <td>2021-01-01</td>\n",
       "      <td>09:19</td>\n",
       "      <td>14013.65</td>\n",
       "      <td>14019.10</td>\n",
       "      <td>14013.65</td>\n",
       "      <td>14016.20</td>\n",
       "    </tr>\n",
       "    <tr>\n",
       "      <th>4</th>\n",
       "      <td>2021-01-01</td>\n",
       "      <td>09:20</td>\n",
       "      <td>14015.45</td>\n",
       "      <td>14017.80</td>\n",
       "      <td>14011.95</td>\n",
       "      <td>14015.45</td>\n",
       "    </tr>\n",
       "    <tr>\n",
       "      <th>...</th>\n",
       "      <td>...</td>\n",
       "      <td>...</td>\n",
       "      <td>...</td>\n",
       "      <td>...</td>\n",
       "      <td>...</td>\n",
       "      <td>...</td>\n",
       "    </tr>\n",
       "    <tr>\n",
       "      <th>22800</th>\n",
       "      <td>2021-03-31</td>\n",
       "      <td>15:27</td>\n",
       "      <td>14687.35</td>\n",
       "      <td>14694.35</td>\n",
       "      <td>14686.30</td>\n",
       "      <td>14690.60</td>\n",
       "    </tr>\n",
       "    <tr>\n",
       "      <th>22801</th>\n",
       "      <td>2021-03-31</td>\n",
       "      <td>15:28</td>\n",
       "      <td>14690.90</td>\n",
       "      <td>14690.90</td>\n",
       "      <td>14686.05</td>\n",
       "      <td>14689.30</td>\n",
       "    </tr>\n",
       "    <tr>\n",
       "      <th>22802</th>\n",
       "      <td>2021-03-31</td>\n",
       "      <td>15:29</td>\n",
       "      <td>14690.30</td>\n",
       "      <td>14694.10</td>\n",
       "      <td>14688.55</td>\n",
       "      <td>14691.30</td>\n",
       "    </tr>\n",
       "    <tr>\n",
       "      <th>22803</th>\n",
       "      <td>2021-03-31</td>\n",
       "      <td>15:30</td>\n",
       "      <td>14689.85</td>\n",
       "      <td>14693.55</td>\n",
       "      <td>14689.45</td>\n",
       "      <td>14693.05</td>\n",
       "    </tr>\n",
       "    <tr>\n",
       "      <th>22804</th>\n",
       "      <td>2021-03-31</td>\n",
       "      <td>15:31</td>\n",
       "      <td>14690.70</td>\n",
       "      <td>14690.70</td>\n",
       "      <td>14690.70</td>\n",
       "      <td>14690.70</td>\n",
       "    </tr>\n",
       "  </tbody>\n",
       "</table>\n",
       "<p>22805 rows × 6 columns</p>\n",
       "</div>"
      ],
      "text/plain": [
       "            Date   Time      open      high       low     close\n",
       "0     2021-01-01  09:16  13997.90  14020.85  13991.35  14013.15\n",
       "1     2021-01-01  09:17  14014.85  14018.55  14008.15  14009.05\n",
       "2     2021-01-01  09:18  14008.05  14013.10  14005.05  14012.70\n",
       "3     2021-01-01  09:19  14013.65  14019.10  14013.65  14016.20\n",
       "4     2021-01-01  09:20  14015.45  14017.80  14011.95  14015.45\n",
       "...          ...    ...       ...       ...       ...       ...\n",
       "22800 2021-03-31  15:27  14687.35  14694.35  14686.30  14690.60\n",
       "22801 2021-03-31  15:28  14690.90  14690.90  14686.05  14689.30\n",
       "22802 2021-03-31  15:29  14690.30  14694.10  14688.55  14691.30\n",
       "22803 2021-03-31  15:30  14689.85  14693.55  14689.45  14693.05\n",
       "22804 2021-03-31  15:31  14690.70  14690.70  14690.70  14690.70\n",
       "\n",
       "[22805 rows x 6 columns]"
      ]
     },
     "execution_count": 20,
     "metadata": {},
     "output_type": "execute_result"
    }
   ],
   "source": [
    "cleaned_data      #check for the cleaned dataset"
   ]
  },
  {
   "cell_type": "markdown",
   "metadata": {},
   "source": [
    "#### Lets now create new columns by splitting Date and Time into more specific parameters as:"
   ]
  },
  {
   "cell_type": "code",
   "execution_count": 21,
   "metadata": {
    "scrolled": true
   },
   "outputs": [
    {
     "data": {
      "text/html": [
       "<div>\n",
       "<style scoped>\n",
       "    .dataframe tbody tr th:only-of-type {\n",
       "        vertical-align: middle;\n",
       "    }\n",
       "\n",
       "    .dataframe tbody tr th {\n",
       "        vertical-align: top;\n",
       "    }\n",
       "\n",
       "    .dataframe thead th {\n",
       "        text-align: right;\n",
       "    }\n",
       "</style>\n",
       "<table border=\"1\" class=\"dataframe\">\n",
       "  <thead>\n",
       "    <tr style=\"text-align: right;\">\n",
       "      <th></th>\n",
       "      <th>Date</th>\n",
       "      <th>Time</th>\n",
       "      <th>open</th>\n",
       "      <th>high</th>\n",
       "      <th>low</th>\n",
       "      <th>close</th>\n",
       "      <th>Day</th>\n",
       "      <th>Month</th>\n",
       "      <th>Year</th>\n",
       "      <th>Hours</th>\n",
       "      <th>Minutes</th>\n",
       "    </tr>\n",
       "  </thead>\n",
       "  <tbody>\n",
       "    <tr>\n",
       "      <th>0</th>\n",
       "      <td>2021-01-01</td>\n",
       "      <td>09:16</td>\n",
       "      <td>13997.90</td>\n",
       "      <td>14020.85</td>\n",
       "      <td>13991.35</td>\n",
       "      <td>14013.15</td>\n",
       "      <td>1</td>\n",
       "      <td>1</td>\n",
       "      <td>2021</td>\n",
       "      <td>9</td>\n",
       "      <td>16</td>\n",
       "    </tr>\n",
       "    <tr>\n",
       "      <th>1</th>\n",
       "      <td>2021-01-01</td>\n",
       "      <td>09:17</td>\n",
       "      <td>14014.85</td>\n",
       "      <td>14018.55</td>\n",
       "      <td>14008.15</td>\n",
       "      <td>14009.05</td>\n",
       "      <td>1</td>\n",
       "      <td>1</td>\n",
       "      <td>2021</td>\n",
       "      <td>9</td>\n",
       "      <td>17</td>\n",
       "    </tr>\n",
       "    <tr>\n",
       "      <th>2</th>\n",
       "      <td>2021-01-01</td>\n",
       "      <td>09:18</td>\n",
       "      <td>14008.05</td>\n",
       "      <td>14013.10</td>\n",
       "      <td>14005.05</td>\n",
       "      <td>14012.70</td>\n",
       "      <td>1</td>\n",
       "      <td>1</td>\n",
       "      <td>2021</td>\n",
       "      <td>9</td>\n",
       "      <td>18</td>\n",
       "    </tr>\n",
       "    <tr>\n",
       "      <th>3</th>\n",
       "      <td>2021-01-01</td>\n",
       "      <td>09:19</td>\n",
       "      <td>14013.65</td>\n",
       "      <td>14019.10</td>\n",
       "      <td>14013.65</td>\n",
       "      <td>14016.20</td>\n",
       "      <td>1</td>\n",
       "      <td>1</td>\n",
       "      <td>2021</td>\n",
       "      <td>9</td>\n",
       "      <td>19</td>\n",
       "    </tr>\n",
       "    <tr>\n",
       "      <th>4</th>\n",
       "      <td>2021-01-01</td>\n",
       "      <td>09:20</td>\n",
       "      <td>14015.45</td>\n",
       "      <td>14017.80</td>\n",
       "      <td>14011.95</td>\n",
       "      <td>14015.45</td>\n",
       "      <td>1</td>\n",
       "      <td>1</td>\n",
       "      <td>2021</td>\n",
       "      <td>9</td>\n",
       "      <td>20</td>\n",
       "    </tr>\n",
       "    <tr>\n",
       "      <th>5</th>\n",
       "      <td>2021-01-01</td>\n",
       "      <td>09:21</td>\n",
       "      <td>14016.00</td>\n",
       "      <td>14021.75</td>\n",
       "      <td>14006.40</td>\n",
       "      <td>14020.75</td>\n",
       "      <td>1</td>\n",
       "      <td>1</td>\n",
       "      <td>2021</td>\n",
       "      <td>9</td>\n",
       "      <td>21</td>\n",
       "    </tr>\n",
       "    <tr>\n",
       "      <th>6</th>\n",
       "      <td>2021-01-01</td>\n",
       "      <td>09:22</td>\n",
       "      <td>14020.70</td>\n",
       "      <td>14023.45</td>\n",
       "      <td>14018.70</td>\n",
       "      <td>14019.45</td>\n",
       "      <td>1</td>\n",
       "      <td>1</td>\n",
       "      <td>2021</td>\n",
       "      <td>9</td>\n",
       "      <td>22</td>\n",
       "    </tr>\n",
       "    <tr>\n",
       "      <th>7</th>\n",
       "      <td>2021-01-01</td>\n",
       "      <td>09:23</td>\n",
       "      <td>14018.40</td>\n",
       "      <td>14021.05</td>\n",
       "      <td>14017.45</td>\n",
       "      <td>14019.45</td>\n",
       "      <td>1</td>\n",
       "      <td>1</td>\n",
       "      <td>2021</td>\n",
       "      <td>9</td>\n",
       "      <td>23</td>\n",
       "    </tr>\n",
       "    <tr>\n",
       "      <th>8</th>\n",
       "      <td>2021-01-01</td>\n",
       "      <td>09:24</td>\n",
       "      <td>14020.00</td>\n",
       "      <td>14020.00</td>\n",
       "      <td>14007.60</td>\n",
       "      <td>14010.50</td>\n",
       "      <td>1</td>\n",
       "      <td>1</td>\n",
       "      <td>2021</td>\n",
       "      <td>9</td>\n",
       "      <td>24</td>\n",
       "    </tr>\n",
       "    <tr>\n",
       "      <th>9</th>\n",
       "      <td>2021-01-01</td>\n",
       "      <td>09:25</td>\n",
       "      <td>14010.25</td>\n",
       "      <td>14014.10</td>\n",
       "      <td>14007.30</td>\n",
       "      <td>14014.10</td>\n",
       "      <td>1</td>\n",
       "      <td>1</td>\n",
       "      <td>2021</td>\n",
       "      <td>9</td>\n",
       "      <td>25</td>\n",
       "    </tr>\n",
       "  </tbody>\n",
       "</table>\n",
       "</div>"
      ],
      "text/plain": [
       "        Date   Time      open      high       low     close  Day  Month  Year  \\\n",
       "0 2021-01-01  09:16  13997.90  14020.85  13991.35  14013.15    1      1  2021   \n",
       "1 2021-01-01  09:17  14014.85  14018.55  14008.15  14009.05    1      1  2021   \n",
       "2 2021-01-01  09:18  14008.05  14013.10  14005.05  14012.70    1      1  2021   \n",
       "3 2021-01-01  09:19  14013.65  14019.10  14013.65  14016.20    1      1  2021   \n",
       "4 2021-01-01  09:20  14015.45  14017.80  14011.95  14015.45    1      1  2021   \n",
       "5 2021-01-01  09:21  14016.00  14021.75  14006.40  14020.75    1      1  2021   \n",
       "6 2021-01-01  09:22  14020.70  14023.45  14018.70  14019.45    1      1  2021   \n",
       "7 2021-01-01  09:23  14018.40  14021.05  14017.45  14019.45    1      1  2021   \n",
       "8 2021-01-01  09:24  14020.00  14020.00  14007.60  14010.50    1      1  2021   \n",
       "9 2021-01-01  09:25  14010.25  14014.10  14007.30  14014.10    1      1  2021   \n",
       "\n",
       "   Hours  Minutes  \n",
       "0      9       16  \n",
       "1      9       17  \n",
       "2      9       18  \n",
       "3      9       19  \n",
       "4      9       20  \n",
       "5      9       21  \n",
       "6      9       22  \n",
       "7      9       23  \n",
       "8      9       24  \n",
       "9      9       25  "
      ]
     },
     "execution_count": 21,
     "metadata": {},
     "output_type": "execute_result"
    }
   ],
   "source": [
    "# Splitting Date into Day,Month and Year\n",
    "cleaned_data['Day'] = cleaned_data['Date'].dt.day\n",
    "cleaned_data['Month'] = cleaned_data['Date'].dt.month\n",
    "cleaned_data['Year'] = cleaned_data['Date'].dt.year\n",
    "\n",
    "# Splitting Time into Hours and Minutes \n",
    "cleaned_data['Hours'] = pd.to_datetime(cleaned_data['Time']).dt.hour\n",
    "cleaned_data['Minutes'] = pd.to_datetime(cleaned_data['Time']).dt.minute\n",
    "\n",
    "\n",
    "cleaned_data.head(10)"
   ]
  },
  {
   "cell_type": "markdown",
   "metadata": {},
   "source": [
    "# Data Visualization\n",
    "\n",
    "## Analyzing relationships between variables"
   ]
  },
  {
   "cell_type": "code",
   "execution_count": 22,
   "metadata": {},
   "outputs": [
    {
     "data": {
      "text/plain": [
       "<AxesSubplot:xlabel='Date', ylabel='open'>"
      ]
     },
     "execution_count": 22,
     "metadata": {},
     "output_type": "execute_result"
    },
    {
     "data": {
      "image/png": "[encoded data removed]",
      "text/plain": [
       "<Figure size 432x288 with 1 Axes>"
      ]
     },
     "metadata": {
      "needs_background": "light"
     },
     "output_type": "display_data"
    }
   ],
   "source": [
    "cleaned_data.plot(kind='scatter', x='Date', y='open')"
   ]
  },
  {
   "cell_type": "code",
   "execution_count": 23,
   "metadata": {},
   "outputs": [
    {
     "data": {
      "text/plain": [
       "<AxesSubplot:xlabel='Date', ylabel='close'>"
      ]
     },
     "execution_count": 23,
     "metadata": {},
     "output_type": "execute_result"
    },
    {
     "data": {
      "image/png": "[encoded data removed]",
      "text/plain": [
       "<Figure size 432x288 with 1 Axes>"
      ]
     },
     "metadata": {
      "needs_background": "light"
     },
     "output_type": "display_data"
    }
   ],
   "source": [
    "cleaned_data.plot(kind='scatter', x='Date', y='close')\n"
   ]
  },
  {
   "cell_type": "code",
   "execution_count": 24,
   "metadata": {},
   "outputs": [
    {
     "data": {
      "text/plain": [
       "<AxesSubplot:xlabel='Date', ylabel='high'>"
      ]
     },
     "execution_count": 24,
     "metadata": {},
     "output_type": "execute_result"
    },
    {
     "data": {
      "image/png": "[encoded data removed]",
      "text/plain": [
       "<Figure size 432x288 with 1 Axes>"
      ]
     },
     "metadata": {
      "needs_background": "light"
     },
     "output_type": "display_data"
    }
   ],
   "source": [
    "cleaned_data.plot(kind='scatter', x='Date', y='high')"
   ]
  },
  {
   "cell_type": "code",
   "execution_count": 25,
   "metadata": {},
   "outputs": [
    {
     "data": {
      "text/plain": [
       "<AxesSubplot:xlabel='Date', ylabel='low'>"
      ]
     },
     "execution_count": 25,
     "metadata": {},
     "output_type": "execute_result"
    },
    {
     "data": {
      "image/png": "[encoded data removed]",
      "text/plain": [
       "<Figure size 432x288 with 1 Axes>"
      ]
     },
     "metadata": {
      "needs_background": "light"
     },
     "output_type": "display_data"
    }
   ],
   "source": [
    "cleaned_data.plot(kind='scatter', x='Date', y='low')"
   ]
  },
  {
   "cell_type": "markdown",
   "metadata": {},
   "source": [
    "#### The values from the above plots for 'high', 'low', 'open', and 'close' seems to be equivalent by visualizing the scatter plot\n",
    "\n",
    "#### Lets plot a boxplot for every column and find out the maximum and minimum value as:"
   ]
  },
  {
   "cell_type": "code",
   "execution_count": 26,
   "metadata": {
    "scrolled": true
   },
   "outputs": [
    {
     "name": "stdout",
     "output_type": "stream",
     "text": [
      "Maximum value is: 15429.5\n",
      "Minimum value is: 13604.75\n"
     ]
    },
    {
     "data": {
      "image/png": "[encoded data removed]",
      "text/plain": [
       "<Figure size 432x288 with 1 Axes>"
      ]
     },
     "metadata": {
      "needs_background": "light"
     },
     "output_type": "display_data"
    }
   ],
   "source": [
    "sns.boxplot(cleaned_data['open'])\n",
    "print('Maximum value is:',cleaned_data['open'].max())\n",
    "print('Minimum value is:',cleaned_data['open'].min())"
   ]
  },
  {
   "cell_type": "code",
   "execution_count": 27,
   "metadata": {},
   "outputs": [
    {
     "name": "stdout",
     "output_type": "stream",
     "text": [
      "Maximum value is: 15430.2\n",
      "Minimum value is: 13602.8\n"
     ]
    },
    {
     "data": {
      "image/png": "[encoded data removed]",
      "text/plain": [
       "<Figure size 432x288 with 1 Axes>"
      ]
     },
     "metadata": {
      "needs_background": "light"
     },
     "output_type": "display_data"
    }
   ],
   "source": [
    "sns.boxplot(cleaned_data['close'])\n",
    "print('Maximum value is:',cleaned_data['close'].max())\n",
    "print('Minimum value is:',cleaned_data['close'].min())"
   ]
  },
  {
   "cell_type": "code",
   "execution_count": 28,
   "metadata": {},
   "outputs": [
    {
     "name": "stdout",
     "output_type": "stream",
     "text": [
      "Maximum value is: 15431.75\n",
      "Minimum value is: 13614.4\n"
     ]
    },
    {
     "data": {
      "image/png": "[encoded data removed]",
      "text/plain": [
       "<Figure size 432x288 with 1 Axes>"
      ]
     },
     "metadata": {
      "needs_background": "light"
     },
     "output_type": "display_data"
    }
   ],
   "source": [
    "sns.boxplot(cleaned_data['high'])\n",
    "print('Maximum value is:',cleaned_data['high'].max())\n",
    "print('Minimum value is:',cleaned_data['high'].min())"
   ]
  },
  {
   "cell_type": "code",
   "execution_count": 29,
   "metadata": {},
   "outputs": [
    {
     "name": "stdout",
     "output_type": "stream",
     "text": [
      "Maximum value is: 15427.9\n",
      "Minimum value is: 13596.75\n"
     ]
    },
    {
     "data": {
      "image/png": "[encoded data removed]",
      "text/plain": [
       "<Figure size 432x288 with 1 Axes>"
      ]
     },
     "metadata": {
      "needs_background": "light"
     },
     "output_type": "display_data"
    }
   ],
   "source": [
    "sns.boxplot(cleaned_data['low'])\n",
    "print('Maximum value is:',cleaned_data['low'].max())\n",
    "print('Minimum value is:',cleaned_data['low'].min())"
   ]
  },
  {
   "cell_type": "markdown",
   "metadata": {},
   "source": [
    "#### Now lets plot a lineplot to see the actual variation "
   ]
  },
  {
   "cell_type": "code",
   "execution_count": 30,
   "metadata": {},
   "outputs": [
    {
     "data": {
      "text/plain": [
       "<AxesSubplot:xlabel='Date', ylabel='open'>"
      ]
     },
     "execution_count": 30,
     "metadata": {},
     "output_type": "execute_result"
    },
    {
     "data": {
      "image/png": "[encoded data removed]",
      "text/plain": [
       "<Figure size 1440x720 with 1 Axes>"
      ]
     },
     "metadata": {
      "needs_background": "light"
     },
     "output_type": "display_data"
    }
   ],
   "source": [
    "plt.figure(figsize=(20,10))\n",
    "sns.lineplot(cleaned_data['Date'], cleaned_data['open'], hue = cleaned_data['Month'],  style= cleaned_data['Month'], markers= True, dashes= False)"
   ]
  }
 ],
 "metadata": {
  "kernelspec": {
   "display_name": "Python 3",
   "language": "python",
   "name": "python3"
  },
  "language_info": {
   "codemirror_mode": {
    "name": "ipython",
    "version": 3
   },
   "file_extension": ".py",
   "mimetype": "text/x-python",
   "name": "python",
   "nbconvert_exporter": "python",
   "pygments_lexer": "ipython3",
   "version": "3.8.5"
  }
 },
 "nbformat": 4,
 "nbformat_minor": 4
}
